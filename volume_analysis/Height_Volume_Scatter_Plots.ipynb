{
 "cells": [
  {
   "cell_type": "code",
   "execution_count": 9,
   "id": "2811b48c-4e08-418f-ba41-f4b338103b83",
   "metadata": {},
   "outputs": [],
   "source": [
    "import os\n",
    "import pandas as pd\n",
    "import numpy as np\n",
    "import matplotlib.pyplot as plt\n",
    "from scipy.stats import linregress"
   ]
  },
  {
   "cell_type": "code",
   "execution_count": 3,
   "id": "273e1267-46f3-4418-a4b5-2f16b0944874",
   "metadata": {},
   "outputs": [],
   "source": [
    "# Input and output directories\n",
    "input_directory = r'G:\\Official_Vanda_Organizing\\Spatial_Morphologic_Data\\2_Data_Cleaning\\4_Pinnacle_Volumes'\n",
    "output_directory = os.path.join(input_directory, 'Height_Volume_ScatterPlots')\n",
    "os.makedirs(output_directory, exist_ok=True)"
   ]
  },
  {
   "cell_type": "code",
   "execution_count": 5,
   "id": "afec4754-8d23-4950-9a28-63e4b14a5c9f",
   "metadata": {},
   "outputs": [
    {
     "name": "stdout",
     "output_type": "stream",
     "text": [
      "All scatter plots saved successfully to: G:\\Official_Vanda_Organizing\\Spatial_Morphologic_Data\\2_Data_Cleaning\\4_Pinnacle_Volumes\\Height_Volume_ScatterPlots\n"
     ]
    }
   ],
   "source": [
    "# Loop over each CSV file in the input directory\n",
    "for file_name in os.listdir(input_directory):\n",
    "    if file_name.endswith('.csv'):\n",
    "        file_path = os.path.join(input_directory, file_name)\n",
    "\n",
    "        # Read the CSV\n",
    "        df = pd.read_csv(file_path)\n",
    "\n",
    "        # Convert height from meters to centimeters\n",
    "        df['Height_cm'] = df['Height_m'] * 100\n",
    "\n",
    "        # Plot Volume vs. Height\n",
    "        plt.figure(figsize=(8, 6))\n",
    "        plt.scatter(df['Volume_cm3'], df['Height_cm'], color='teal', alpha=0.7, edgecolor='black')\n",
    "        plt.xlabel('Volume (cm³)')\n",
    "        plt.ylabel('Height (cm)')\n",
    "        plt.title(f'Height vs Volume: {file_name}', fontsize=14)\n",
    "        plt.grid(True)\n",
    "\n",
    "        # Save figure\n",
    "        output_path = os.path.join(output_directory, f\"{os.path.splitext(file_name)[0]}_Height_vs_Volume.png\")\n",
    "        plt.savefig(output_path, dpi=300, bbox_inches='tight')\n",
    "        plt.close()\n",
    "\n",
    "print(\"All scatter plots saved successfully to:\", output_directory)"
   ]
  },
  {
   "cell_type": "code",
   "execution_count": 11,
   "id": "fc6f42b6-7b6f-4b6b-b163-425a9b4d202b",
   "metadata": {},
   "outputs": [
    {
     "name": "stdout",
     "output_type": "stream",
     "text": [
      "All log-scaled scatter plots with regression saved to: G:\\Official_Vanda_Organizing\\Spatial_Morphologic_Data\\2_Data_Cleaning\\4_Pinnacle_Volumes\\Height_Volume_LogScatterPlots\n"
     ]
    }
   ],
   "source": [
    "# Loop over each CSV file in the input directory\n",
    "for file_name in os.listdir(input_directory):\n",
    "    if file_name.endswith('.csv'):\n",
    "        file_path = os.path.join(input_directory, file_name)\n",
    "\n",
    "        # Read the CSV\n",
    "        df = pd.read_csv(file_path)\n",
    "\n",
    "        # Convert height from meters to centimeters\n",
    "        df['Height_cm'] = df['Height_m'] * 100\n",
    "\n",
    "        # Filter out rows where height or volume is zero or negative (log undefined)\n",
    "        df = df[(df['Volume_cm3'] > 0) & (df['Height_cm'] > 0)]\n",
    "\n",
    "        # Log-transform\n",
    "        log_volume = np.log10(df['Volume_cm3'])\n",
    "        log_height = np.log10(df['Height_cm'])\n",
    "\n",
    "        # Linear regression in log-log space\n",
    "        slope, intercept, r_value, p_value, std_err = linregress(log_volume, log_height)\n",
    "        line_x = np.linspace(log_volume.min(), log_volume.max(), 100)\n",
    "        line_y = slope * line_x + intercept\n",
    "\n",
    "        # Plot\n",
    "        plt.figure(figsize=(8, 6))\n",
    "        plt.scatter(df['Volume_cm3'], df['Height_cm'], color='darkorange', alpha=0.7, edgecolor='black', label='Data')\n",
    "        plt.plot(10**line_x, 10**line_y, color='blue', linestyle='--', label=f'Fit: height ∝ volume^{slope:.2f}')\n",
    "        plt.xscale('log')\n",
    "        plt.yscale('log')\n",
    "        plt.xlabel('Volume (cm³) [log scale]')\n",
    "        plt.ylabel('Height (cm) [log scale]')\n",
    "        plt.title(f'Log-Scaled Height vs Volume: {file_name}', fontsize=14)\n",
    "        plt.grid(True, which=\"both\", ls=\"--\", linewidth=0.5)\n",
    "        plt.legend()\n",
    "\n",
    "        # Save figure\n",
    "        output_path = os.path.join(output_directory, f\"{os.path.splitext(file_name)[0]}_LogScaled.png\")\n",
    "        plt.savefig(output_path, dpi=300, bbox_inches='tight')\n",
    "        plt.close()\n",
    "\n",
    "print(\"All log-scaled scatter plots with regression saved to:\", output_directory)"
   ]
  },
  {
   "cell_type": "code",
   "execution_count": null,
   "id": "df9fcf3a-f55f-45c6-b932-d81e0dbd2f09",
   "metadata": {},
   "outputs": [],
   "source": []
  }
 ],
 "metadata": {
  "kernelspec": {
   "display_name": "alaska_env",
   "language": "python",
   "name": "alaska_env"
  },
  "language_info": {
   "codemirror_mode": {
    "name": "ipython",
    "version": 3
   },
   "file_extension": ".py",
   "mimetype": "text/x-python",
   "name": "python",
   "nbconvert_exporter": "python",
   "pygments_lexer": "ipython3",
   "version": "3.12.5"
  }
 },
 "nbformat": 4,
 "nbformat_minor": 5
}
