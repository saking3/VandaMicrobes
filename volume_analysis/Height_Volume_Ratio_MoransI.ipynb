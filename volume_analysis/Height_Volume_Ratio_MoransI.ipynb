{
 "cells": [
  {
   "cell_type": "code",
   "execution_count": null,
   "id": "63d037ba-dd2f-4f83-bb98-0cabe451e593",
   "metadata": {},
   "outputs": [],
   "source": [
    "pip install pysal"
   ]
  },
  {
   "cell_type": "code",
   "execution_count": 9,
   "id": "be49dfef-bfe3-43fe-a49c-d3aaedbcc068",
   "metadata": {},
   "outputs": [],
   "source": [
    "import pandas as pd\n",
    "import numpy as np\n",
    "import matplotlib.pyplot as plt\n",
    "import libpysal\n",
    "from esda import Moran\n",
    "import os"
   ]
  },
  {
   "cell_type": "code",
   "execution_count": 13,
   "id": "8a55039a-3b8a-400f-854a-a2b5808b8fc1",
   "metadata": {},
   "outputs": [
    {
     "name": "stdout",
     "output_type": "stream",
     "text": [
      "Processing C12_11.10to14.24_scaled.csv:\n",
      "Moran's I: 0.2183, P-value: 0.0010\n",
      "Processing C12_8.09to11_scaled.csv:\n",
      "Moran's I: 0.0497, P-value: 0.0450\n",
      "Processing C4_15.31to19.37_scaled.csv:\n",
      "Moran's I: 0.1195, P-value: 0.0150\n",
      "Processing C7_3.21to5.30_scaled_colors_cleaned.csv:\n",
      "Moran's I: 0.1250, P-value: 0.0050\n",
      "Processing C8_5.35to7.46_scaled_colors_scaled.csv:\n",
      "Moran's I: 0.0281, P-value: 0.0500\n",
      "Processing C9_3.35to6.18_scaled_colors_cleaned.csv:\n",
      "Moran's I: 0.1644, P-value: 0.0100\n",
      "Processing C9_6.34to9.46_scaled.csv:\n",
      "Moran's I: 0.1593, P-value: 0.0010\n",
      "All figures saved successfully.\n"
     ]
    }
   ],
   "source": [
    "input_directory = r'G:\\Official_Vanda_Organizing\\Spatial_Morphologic_Data\\2_Data_Cleaning\\4_Pinnacle_Volumes'\n",
    "output_directory = r'G:\\Official_Vanda_Organizing\\Spatial_Morphologic_Data\\2_Data_Cleaning\\4_Pinnacle_Volumes\\Height_Volume_Ratio_MoransI'\n",
    "\n",
    "# Ensure output directory exists\n",
    "os.makedirs(output_directory, exist_ok=True)\n",
    "\n",
    "# Loop over each CSV file in the input directory\n",
    "for file_name in os.listdir(input_directory):\n",
    "    if file_name.endswith('.csv'):\n",
    "        file_path = os.path.join(input_directory, file_name)\n",
    "        \n",
    "        # Load the data\n",
    "        data = pd.read_csv(file_path)\n",
    "\n",
    "        # Convert height to cm and calculate height/volume ratio\n",
    "        data['Height_cm'] = data['Height_m'] * 100\n",
    "        data['HeightVolRatio'] = data['Height_cm'] / data['Volume_cm3']\n",
    "\n",
    "        # Extract coordinates and the ratio\n",
    "        x_coords = data['MaxX']\n",
    "        y_coords = data['MaxY']\n",
    "        ratios = data['HeightVolRatio']\n",
    "\n",
    "        coordinates = np.array(list(zip(x_coords, y_coords)))\n",
    "\n",
    "        try:\n",
    "            # Create spatial weights matrix (distance-based, threshold in coordinate units)\n",
    "            w = libpysal.weights.DistanceBand(coordinates, threshold=.05, binary=True, silence_warnings=True)\n",
    "\n",
    "            # Calculate Moran's I\n",
    "            moran = Moran(ratios, w)\n",
    "\n",
    "            # Print results\n",
    "            print(f\"Processing {file_name}:\")\n",
    "            print(f\"Moran's I: {moran.I:.4f}, P-value: {moran.p_sim:.4f}\")\n",
    "\n",
    "            # Visualize the results\n",
    "            plt.figure(figsize=(8, 6))\n",
    "            sc = plt.scatter(x_coords, y_coords, c=ratios, cmap='plasma', marker='o')\n",
    "            plt.colorbar(sc, label='Height(cm)/Volume(cm³) Ratio')\n",
    "\n",
    "            plt.suptitle(file_name, fontsize=16)\n",
    "            plt.title(f\"Moran's I: {moran.I:.4f} (p-value: {moran.p_sim:.4f})\", fontsize=12)\n",
    "\n",
    "            plt.xlabel('MaxX')\n",
    "            plt.ylabel('MaxY')\n",
    "            plt.grid(True)\n",
    "\n",
    "            # Save the figure\n",
    "            output_file_path = os.path.join(output_directory, f\"{os.path.splitext(file_name)[0]}.png\")\n",
    "            plt.savefig(output_file_path, format='png', bbox_inches='tight')\n",
    "            plt.close()\n",
    "        \n",
    "        except Exception as e:\n",
    "            print(f\"Error processing {file_name}: {e}\")\n",
    "\n",
    "print(\"All figures saved successfully.\")"
   ]
  },
  {
   "cell_type": "code",
   "execution_count": null,
   "id": "98a94c37-6c02-4808-83e7-57b4f46defc8",
   "metadata": {},
   "outputs": [],
   "source": []
  }
 ],
 "metadata": {
  "kernelspec": {
   "display_name": "alaska_env",
   "language": "python",
   "name": "alaska_env"
  },
  "language_info": {
   "codemirror_mode": {
    "name": "ipython",
    "version": 3
   },
   "file_extension": ".py",
   "mimetype": "text/x-python",
   "name": "python",
   "nbconvert_exporter": "python",
   "pygments_lexer": "ipython3",
   "version": "3.12.5"
  }
 },
 "nbformat": 4,
 "nbformat_minor": 5
}
