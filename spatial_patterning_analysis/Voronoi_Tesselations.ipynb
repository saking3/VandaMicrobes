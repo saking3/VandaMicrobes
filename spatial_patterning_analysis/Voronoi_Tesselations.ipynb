{
 "cells": [
  {
   "cell_type": "code",
   "execution_count": 3,
   "id": "115417a5-41bd-4547-8bda-2d42cdb0faaa",
   "metadata": {
    "tags": []
   },
   "outputs": [],
   "source": [
    "import os\n",
    "import pandas as pd\n",
    "import numpy as np\n",
    "from scipy.spatial import Voronoi, voronoi_plot_2d\n",
    "import matplotlib.pyplot as plt\n",
    "from shapely.geometry import Polygon"
   ]
  },
  {
   "cell_type": "code",
   "execution_count": 51,
   "id": "ed83e209-98df-4f83-a048-3256bb18c1c4",
   "metadata": {
    "tags": []
   },
   "outputs": [
    {
     "name": "stdout",
     "output_type": "stream",
     "text": [
      "Voronoi tessellations have been processed and saved.\n"
     ]
    }
   ],
   "source": [
    "# Define input and output directories\n",
    "input_dir = 'G:/Official_Vanda_Organizing/Spatial_Morphologic_Data/2_Data_Cleaning/3_Extracted_Maxima_and_Heights/Maxima_Points_CSVs'  # Replace with the path to your CSV files\n",
    "output_dir = 'G:/Official_Vanda_Organizing/Spatial_Morphologic_Data/3_Statistics/Voronoi_Tesselations'  # Replace with the path to save Voronoi plots\n",
    "\n",
    "# Ensure the output directory exists\n",
    "if not os.path.exists(output_dir):\n",
    "    os.makedirs(output_dir)"
   ]
  },
  {
   "cell_type": "code",
   "execution_count": null,
   "id": "c3a8dbd9-1d76-42f8-8de0-b1b3a23fd10e",
   "metadata": {},
   "outputs": [],
   "source": [
    "# Function to create Voronoi tessellation with a dynamic bounding box\n",
    "def create_voronoi_tessellation_with_styling(file_path, output_file_path, buffer=1):\n",
    "    # Read CSV file\n",
    "    data = pd.read_csv(file_path)\n",
    "    \n",
    "    # Ensure the file has X and Y columns\n",
    "    if 'X' not in data.columns or 'Y' not in data.columns:\n",
    "        print(f\"Error: Missing X or Y columns in {file_path}.\")\n",
    "        return\n",
    "    \n",
    "    points = data[['X', 'Y']].values  # Extract XY data\n",
    "    \n",
    "    # Check if there are enough points for Voronoi tessellation\n",
    "    if len(points) < 3:\n",
    "        print(f\"Error: Not enough points to create a Voronoi diagram in {file_path}.\")\n",
    "        return\n",
    "    \n",
    "    # Calculate the bounding box with buffer\n",
    "    min_x, min_y = points.min(axis=0)\n",
    "    max_x, max_y = points.max(axis=0)\n",
    "    range_x = max_x - min_x\n",
    "    range_y = max_y - min_y\n",
    "    min_x -= buffer * range_x\n",
    "    max_x += buffer * range_x\n",
    "    min_y -= buffer * range_y\n",
    "    max_y += buffer * range_y\n",
    "    \n",
    "    # Define the bounding box as a Shapely Polygon\n",
    "    bounds = [[min_x, min_y], [max_x, min_y], [max_x, max_y], [min_x, max_y]]\n",
    "    bounding_box = Polygon(bounds)\n",
    "    \n",
    "    # Generate Voronoi tessellation\n",
    "    vor = Voronoi(points)\n",
    "    \n",
    "    # Clip Voronoi regions to the bounding box\n",
    "    def clip_region(region):\n",
    "        if -1 not in region:  # Ignore infinite regions\n",
    "            poly = Polygon([vor.vertices[i] for i in region])\n",
    "            return poly.intersection(bounding_box)\n",
    "        return None\n",
    "\n",
    "    regions = [clip_region(region) for region in vor.regions if len(region) > 0]\n",
    "    \n",
    "    # Plot the bounded Voronoi diagram\n",
    "    fig, ax = plt.subplots(figsize=(8, 8))\n",
    "    \n",
    "    # Plot Voronoi cells\n",
    "    for region in regions:\n",
    "        if region and not region.is_empty:  # Ignore None and empty polygons\n",
    "            x, y = region.exterior.xy\n",
    "            ax.plot(x, y, color='black', linewidth=0.8)  # Black edges\n",
    "            ax.fill(x, y, color='white')  # White fill\n",
    "    \n",
    "    # Plot points\n",
    "    ax.plot(points[:, 0], points[:, 1], 'o', color='navy', markersize=4)  # Slightly smaller points\n",
    "    \n",
    "    # Set plot title and labels\n",
    "    ax.set_title(f\"Voronoi Tessellation: {os.path.basename(file_path)}\")\n",
    "    ax.set_xlabel(\"X\")\n",
    "    ax.set_ylabel(\"Y\")\n",
    "    \n",
    "    # Set the axis limits to match the bounding box\n",
    "    ax.set_xlim(min_x, max_x)\n",
    "    ax.set_ylim(min_y, max_y)\n",
    "    \n",
    "    # Fix the aspect ratio to ensure the bounding box and plot limits match\n",
    "    ax.set_aspect('equal', adjustable='box')\n",
    "    \n",
    "    # You can comment or remove the following line to make the bounding box invisible\n",
    "    # ax.plot(*zip(*bounds, bounds[0]), color='white', linewidth=1)  # Bounding box line color is set to white\n",
    "    \n",
    "    # Save the plot to the output directory\n",
    "    fig.savefig(output_file_path, bbox_inches='tight')\n",
    "    plt.close(fig)  # Close the plot to avoid displaying it during batch processing"
   ]
  },
  {
   "cell_type": "code",
   "execution_count": null,
   "id": "69bbc40e-e428-4362-875f-6404e3e0e563",
   "metadata": {},
   "outputs": [],
   "source": [
    "# Loop through each CSV file in the input directory and process it\n",
    "for file_name in os.listdir(input_dir):\n",
    "    if file_name.endswith('.csv'):  # Process only CSV files\n",
    "        input_file_path = os.path.join(input_dir, file_name)\n",
    "        output_file_path = os.path.join(output_dir, f\"{os.path.splitext(file_name)[0]}_voronoi.png\")\n",
    "        \n",
    "        # Call the function for each CSV file\n",
    "        create_voronoi_tessellation_with_styling(input_file_path, output_file_path, buffer=0.0)\n",
    "\n",
    "print(\"Voronoi tessellations have been processed and saved.\")"
   ]
  }
 ],
 "metadata": {
  "kernelspec": {
   "display_name": "Python 3 (ipykernel)",
   "language": "python",
   "name": "python3"
  },
  "language_info": {
   "codemirror_mode": {
    "name": "ipython",
    "version": 3
   },
   "file_extension": ".py",
   "mimetype": "text/x-python",
   "name": "python",
   "nbconvert_exporter": "python",
   "pygments_lexer": "ipython3",
   "version": "3.11.5"
  }
 },
 "nbformat": 4,
 "nbformat_minor": 5
}
